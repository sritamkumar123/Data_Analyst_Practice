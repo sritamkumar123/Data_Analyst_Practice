{
 "cells": [
  {
   "cell_type": "markdown",
   "metadata": {},
   "source": [
    "# Module 2: Control Flow Assignments\n",
    "## Lesson 2.1: Conditional Statements\n",
    "### Assignment 1: Simple if Statement\n",
    "\n",
    "Write a program that asks the user to input a number and prints whether the number is positive.\n",
    "\n",
    "### Assignment 2: if-else Statement\n",
    "\n",
    "Write a program that asks the user to input a number and prints whether the number is positive or negative.\n",
    "\n",
    "### Assignment 3: if-elif-else Statement\n",
    "\n",
    "Write a program that asks the user to input a number and prints whether the number is positive, negative, or zero.\n",
    "\n",
    "### Assignment 4: Nested if Statement\n",
    "\n",
    "Write a program that asks the user to input a number and prints whether the number is positive and even, positive and odd, or negative.\n",
    "\n",
    "## Lesson 2.2: Loops\n",
    "### Assignment 5: for Loop\n",
    "\n",
    "Write a program that prints all the numbers from 1 to 10 using a for loop.\n",
    "\n",
    "### Assignment 6: while Loop\n",
    "\n",
    "Write a program that prints all the numbers from 1 to 10 using a while loop.\n",
    "\n",
    "### Assignment 7: Nested Loops\n",
    "\n",
    "Write a program that prints a 5x5 grid of asterisks (*) using nested loops.\n",
    "\n",
    "### Assignment 8: break Statement\n",
    "\n",
    "Write a program that asks the user to input numbers until they input 0. The program should print the sum of all the input numbers.\n",
    "\n",
    "### Assignment 9: continue Statement\n",
    "\n",
    "Write a program that prints all the numbers from 1 to 10 except 5 using a for loop and continue statement.\n",
    "\n",
    "### Assignment 10: pass Statement\n",
    "\n",
    "Write a program that defines an empty function using the pass statement.\n",
    "\n",
    "### Assignment 11: Combining Loops and Conditionals\n",
    "\n",
    "Write a program that asks the user to input a number and prints all the even numbers from 1 to that number using a for loop.\n",
    "\n",
    "### Assignment 12: Factorial Calculation\n",
    "\n",
    "Write a program that calculates the factorial of a number input by the user using a while loop.\n",
    "\n",
    "### Assignment 13: Sum of Digits\n",
    "\n",
    "Write a program that calculates the sum of the digits of a number input by the user using a while loop.\n",
    "\n",
    "### Assignment 14: Prime Number Check\n",
    "\n",
    "Write a program that checks if a number input by the user is a prime number using a for loop.\n",
    "\n",
    "### Assignment 15: Fibonacci Sequence\n",
    "\n",
    "Write a program that prints the first n Fibonacci numbers, where n is input by the user."
   ]
  },
  {
   "cell_type": "code",
   "execution_count": 3,
   "metadata": {},
   "outputs": [
    {
     "name": "stdout",
     "output_type": "stream",
     "text": [
      "0.0 is zero\n"
     ]
    }
   ],
   "source": [
    "#Write a program that asks the user to input a number and prints whether the number is positive.\n",
    "\n",
    "num = float(input(\"Enter a numeber\"))\n",
    "if(num>0):\n",
    "    print(f'{num} is +ve number')\n",
    "elif(num<0):\n",
    "    print(f'{num} is -ve number')\n",
    "else:\n",
    "    print(f'{num} is zero')"
   ]
  },
  {
   "cell_type": "code",
   "execution_count": 8,
   "id": "62ead3c5",
   "metadata": {},
   "outputs": [
    {
     "name": "stdout",
     "output_type": "stream",
     "text": [
      "-2.0 is not a +ve number\n"
     ]
    }
   ],
   "source": [
    "### Assignment 4: Nested if Statement\n",
    "\n",
    "#Write a program that asks the user to input a number and prints whether the number is positive and even, positive and odd, or negative.\n",
    "\n",
    "\n",
    "num = float(input('Enter a number'))\n",
    "\n",
    "if(num>0):\n",
    "    if(num%2==0):\n",
    "        print(f'{num} is even number')\n",
    "    else:\n",
    "        print(f'{num} is odd number')\n",
    "else:\n",
    "    print(f'{num} is not a +ve number')"
   ]
  },
  {
   "cell_type": "code",
   "execution_count": 9,
   "id": "b8e8e080",
   "metadata": {},
   "outputs": [
    {
     "name": "stdout",
     "output_type": "stream",
     "text": [
      "1\n",
      "2\n",
      "3\n",
      "4\n",
      "5\n",
      "6\n",
      "7\n",
      "8\n",
      "9\n",
      "10\n"
     ]
    }
   ],
   "source": [
    "### Assignment 5: for Loop\n",
    "\n",
    "#Write a program that prints all the numbers from 1 to 10 using a for loop.\n",
    "\n",
    "for i in range(1,11):\n",
    "    print(i)"
   ]
  },
  {
   "cell_type": "code",
   "execution_count": 10,
   "id": "9d6ae57d",
   "metadata": {},
   "outputs": [
    {
     "name": "stdout",
     "output_type": "stream",
     "text": [
      "1\n",
      "2\n",
      "3\n",
      "4\n",
      "5\n",
      "6\n",
      "7\n",
      "8\n",
      "9\n",
      "10\n"
     ]
    }
   ],
   "source": [
    "### Assignment 6: while Loop\n",
    "\n",
    "#Write a program that prints all the numbers from 1 to 10 using a while loop.\n",
    "\n",
    "num=1\n",
    "while(num<11):\n",
    "    print(num)\n",
    "    num=num+1"
   ]
  },
  {
   "cell_type": "code",
   "execution_count": 16,
   "id": "3b2664cc",
   "metadata": {},
   "outputs": [
    {
     "name": "stdout",
     "output_type": "stream",
     "text": [
      "* * * * * \n",
      "* * * * * \n",
      "* * * * * \n",
      "* * * * * \n",
      "* * * * * \n"
     ]
    }
   ],
   "source": [
    "### Assignment 7: Nested Loops\n",
    "\n",
    "#Write a program that prints a 5x5 grid of asterisks (*) using nested loops.\n",
    "\n",
    "for i in range(5):\n",
    "    for j in range(5):\n",
    "        print('*', end=' ')\n",
    "    print()"
   ]
  },
  {
   "cell_type": "code",
   "execution_count": 18,
   "id": "a2c7a7ab",
   "metadata": {},
   "outputs": [
    {
     "name": "stdout",
     "output_type": "stream",
     "text": [
      "sum of all entered number is 15.0\n"
     ]
    }
   ],
   "source": [
    "### Assignment 8: break Statement\n",
    "\n",
    "#Write a program that asks the user to input numbers until they input 0. The program should print the sum of all the input numbers.\n",
    "\n",
    "sum=0\n",
    "while True:\n",
    "    num = float(input('enter numbers and at the end enter 0 to findout the sum of all previous numbers'))\n",
    "    if(num==0):\n",
    "        break\n",
    "    \n",
    "    sum=sum+num\n",
    "print(f'sum of all entered number is {sum}')"
   ]
  },
  {
   "cell_type": "code",
   "execution_count": 20,
   "id": "e9173d95",
   "metadata": {},
   "outputs": [
    {
     "name": "stdout",
     "output_type": "stream",
     "text": [
      "1 2 3 4 6 7 8 9 10 "
     ]
    }
   ],
   "source": [
    "### Assignment 9: continue Statement\n",
    "\n",
    "#Write a program that prints all the numbers from 1 to 10 except 5 using a for loop and continue statement.\n",
    "\n",
    "for i in range(1,11):\n",
    "    if i ==5:\n",
    "        continue\n",
    "    print(i,end=' ')"
   ]
  },
  {
   "cell_type": "code",
   "execution_count": 22,
   "id": "8a0be6a0",
   "metadata": {},
   "outputs": [],
   "source": [
    "### Assignment 10: pass Statement\n",
    "\n",
    "#Write a program that defines an empty function using the pass statement.\n",
    "\n",
    "def empty_function():\n",
    "    pass\n",
    "\n",
    "empty_function()"
   ]
  },
  {
   "cell_type": "code",
   "execution_count": 28,
   "id": "608d4639",
   "metadata": {},
   "outputs": [
    {
     "name": "stdout",
     "output_type": "stream",
     "text": [
      "2 4 6 8 10 12 14 16 18 20 22 24 26 28 30 32 34 36 38 40 42 44 46 48 50 52 54 56 58 60 62 64 66 68 70 72 74 76 78 80 82 84 86 "
     ]
    }
   ],
   "source": [
    "### Assignment 11: Combining Loops and Conditionals\n",
    "\n",
    "#Write a program that asks the user to input a number and prints all the even numbers from 1 to that number using a for loop.\n",
    "\n",
    "num = int(input('Enter a number upto which you can to findout prime numebers'))\n",
    "\n",
    "for i in range(1,num+1):\n",
    "    if(i%2==0):\n",
    "        print(i, end=' ')\n"
   ]
  },
  {
   "cell_type": "code",
   "execution_count": 36,
   "id": "c79884bd",
   "metadata": {},
   "outputs": [
    {
     "name": "stdout",
     "output_type": "stream",
     "text": [
      "-9 is not a +ve number\n"
     ]
    }
   ],
   "source": [
    "### Assignment 12: Factorial Calculation\n",
    "\n",
    "#Write a program that calculates the factorial of a number input by the user using a while loop.\n",
    "fact=1\n",
    "num = int(input('Enter the number to findout its factorial'))\n",
    "if(num>0):\n",
    "\n",
    "    for i in range(1,num+1):\n",
    "        fact= fact*i\n",
    "    print(fact)\n",
    "else:\n",
    "    print(f'{num} is not a +ve number')\n"
   ]
  },
  {
   "cell_type": "code",
   "execution_count": null,
   "id": "9b766cd5",
   "metadata": {},
   "outputs": [],
   "source": [
    "### Assignment 13: Sum of Digits\n",
    "\n",
    "#Write a program that calculates the sum of the digits of a number input by the user using a while loop."
   ]
  },
  {
   "cell_type": "code",
   "execution_count": 12,
   "id": "33d0ba35",
   "metadata": {},
   "outputs": [
    {
     "name": "stdout",
     "output_type": "stream",
     "text": [
      "Sum of number is 18\n"
     ]
    }
   ],
   "source": [
    "num = int(input('Enter a number'))\n",
    "sum=0\n",
    "while(num>0):\n",
    "    rem=num%10\n",
    "    sum=sum+rem\n",
    "    num = num//10\n",
    "print(f'Sum of number is {sum}')"
   ]
  },
  {
   "cell_type": "code",
   "execution_count": 33,
   "id": "ffe2f809",
   "metadata": {},
   "outputs": [
    {
     "name": "stdout",
     "output_type": "stream",
     "text": [
      "9 is not a prime number\n"
     ]
    }
   ],
   "source": [
    "### Assignment 14: Prime Number Check\n",
    "\n",
    "#Write a program that checks if a number input by the user is a prime number using a for loop.\n",
    "\n",
    "num = int(input('Enter a number'))\n",
    "\n",
    "if (num>1):\n",
    "\n",
    "    for i in range(2,int(num**0.5)+1):\n",
    "        if(num%i==0):\n",
    "            print(f'{num} is not a prime number')\n",
    "            break\n",
    "    else:   \n",
    "        print(f'{num} is a prime number') \n",
    "else:\n",
    "    print(f'{num} is not a prime number')"
   ]
  },
  {
   "cell_type": "code",
   "execution_count": 13,
   "id": "8d40b63d",
   "metadata": {},
   "outputs": [
    {
     "name": "stdout",
     "output_type": "stream",
     "text": [
      "0 1 1 2 3 5 "
     ]
    }
   ],
   "source": [
    "### Assignment 15: Fibonacci Sequence\n",
    "\n",
    "#Write a program that prints the first n Fibonacci numbers, where n is input by the user\n",
    "\n",
    "num = int(input('Enter a number'))\n",
    "a,b = 0,1\n",
    "count=0\n",
    "while(count<num):\n",
    "    print(a, end=' ')\n",
    "    a,b = b, a+b\n",
    "    count+=1\n",
    "    "
   ]
  },
  {
   "cell_type": "code",
   "execution_count": 14,
   "id": "45a72276",
   "metadata": {},
   "outputs": [
    {
     "name": "stdout",
     "output_type": "stream",
     "text": [
      "<class 'list'>\n"
     ]
    }
   ],
   "source": [
    "list = []\n",
    "print(type(list))"
   ]
  },
  {
   "cell_type": "code",
   "execution_count": 62,
   "id": "d02c21c0",
   "metadata": {},
   "outputs": [
    {
     "name": "stdout",
     "output_type": "stream",
     "text": [
      "banana\n",
      "['banana', 'apple', 'pineapple', 'guava']\n",
      "['mango', 'banana']\n",
      "['banana', 'apple', 'pineapple', 'guava']\n",
      "['banana']\n",
      "['mango', 'banana', 'apple']\n",
      "['pineapple', 'guava']\n",
      "['mango', 'banana', 'apple', 'pineapple', 'guava', 'cherrry']\n",
      "['mango', 'orange', 'banana', 'apple', 'pineapple', 'guava', 'cherrry']\n",
      "['orange', 'banana', 'apple', 'pineapple', 'guava', 'cherrry']\n",
      "cherrry\n",
      "['orange', 'banana', 'apple', 'pineapple', 'guava', 'mango', 'mango']\n",
      "1\n",
      "5\n",
      "['apple', 'banana', 'guava', 'mango', 'mango', 'orange', 'pineapple']\n",
      "['pineapple', 'orange', 'mango', 'mango', 'guava', 'banana', 'apple']\n",
      "['apple', 'banana', 'guava', 'mango', 'mango', 'orange', 'pineapple']\n",
      "['apple', 'guava', 'mango', 'pineapple']\n",
      "['pineapple', 'orange', 'mango', 'mango', 'guava', 'banana', 'apple']\n",
      "0 pineapple \n",
      "1 orange \n",
      "2 mango \n",
      "3 mango \n",
      "4 guava \n",
      "5 banana \n",
      "6 apple \n"
     ]
    },
    {
     "data": {
      "text/plain": [
       "[1, 4, 9, 16, 25, 36, 49, 64, 81]"
      ]
     },
     "execution_count": 62,
     "metadata": {},
     "output_type": "execute_result"
    }
   ],
   "source": [
    "list=['mango','banana','apple','pineapple','guava']\n",
    "print(list[1])\n",
    "print(list[1:])\n",
    "print(list[:2])\n",
    "print(list[1:5])\n",
    "print(list[1:2])\n",
    "print(list[:-2])\n",
    "print(list[-2:])\n",
    "\n",
    "## list functions \n",
    "\n",
    "list.append('cherrry')\n",
    "print(list)\n",
    "\n",
    "## insert \n",
    "\n",
    "list.insert(1,'orange')\n",
    "print(list)\n",
    "\n",
    "## remove\n",
    "\n",
    "list.remove('mango')\n",
    "print(list)\n",
    "\n",
    "## pop\n",
    "\n",
    "print(list.pop())\n",
    "\n",
    "list.append('mango')\n",
    "list.append('mango')\n",
    "print(list)\n",
    "\n",
    "## count\n",
    "print(list.count('banana'))\n",
    "\n",
    "## index \n",
    "print(list.index('mango'))\n",
    "\n",
    "## sorting \n",
    "list.sort()\n",
    "print(list)\n",
    "list.sort(reverse=True)\n",
    "print(list)\n",
    "\n",
    "##slicing of the list \n",
    "\n",
    "print(list[::-1])\n",
    "print(list[::-2])\n",
    "print(list[::])\n",
    "\n",
    "## index of each element \n",
    "\n",
    "for i,index in enumerate(list):\n",
    "    print(i,index, end =' ')\n",
    "    print('')\n",
    "\n",
    "## list compreshension \n",
    "\n",
    "list1=[1,2,3,4,5,6,7,8,9]\n",
    "[i**2 for i in list1]\n",
    "\n"
   ]
  },
  {
   "cell_type": "markdown",
   "id": "bffae449",
   "metadata": {},
   "source": []
  },
  {
   "cell_type": "code",
   "execution_count": 63,
   "id": "b6c0823c",
   "metadata": {},
   "outputs": [
    {
     "name": "stdout",
     "output_type": "stream",
     "text": [
      "[0, 2, 4, 6, 8]\n"
     ]
    }
   ],
   "source": [
    "#list compreensin with condition \n",
    "even_numbers= [num for num in range(10) if num%2==0]\n",
    "print(even_numbers)\n"
   ]
  },
  {
   "cell_type": "code",
   "execution_count": 65,
   "id": "e101ba69",
   "metadata": {},
   "outputs": [
    {
     "name": "stdout",
     "output_type": "stream",
     "text": [
      "[(0, 11), (0, 12), (0, 13), (0, 14), (0, 15), (0, 16), (0, 17), (0, 18), (0, 19), (0, 20), (1, 11), (1, 12), (1, 13), (1, 14), (1, 15), (1, 16), (1, 17), (1, 18), (1, 19), (1, 20), (2, 11), (2, 12), (2, 13), (2, 14), (2, 15), (2, 16), (2, 17), (2, 18), (2, 19), (2, 20), (3, 11), (3, 12), (3, 13), (3, 14), (3, 15), (3, 16), (3, 17), (3, 18), (3, 19), (3, 20), (4, 11), (4, 12), (4, 13), (4, 14), (4, 15), (4, 16), (4, 17), (4, 18), (4, 19), (4, 20), (5, 11), (5, 12), (5, 13), (5, 14), (5, 15), (5, 16), (5, 17), (5, 18), (5, 19), (5, 20), (6, 11), (6, 12), (6, 13), (6, 14), (6, 15), (6, 16), (6, 17), (6, 18), (6, 19), (6, 20), (7, 11), (7, 12), (7, 13), (7, 14), (7, 15), (7, 16), (7, 17), (7, 18), (7, 19), (7, 20), (8, 11), (8, 12), (8, 13), (8, 14), (8, 15), (8, 16), (8, 17), (8, 18), (8, 19), (8, 20), (9, 11), (9, 12), (9, 13), (9, 14), (9, 15), (9, 16), (9, 17), (9, 18), (9, 19), (9, 20)]\n"
     ]
    }
   ],
   "source": [
    "#nested list compreshension\n",
    "pair = [(i,j) for i in range(10) for j in range(11,21)]\n",
    "print(pair)"
   ]
  },
  {
   "cell_type": "code",
   "execution_count": null,
   "id": "f1f333ee",
   "metadata": {},
   "outputs": [],
   "source": []
  }
 ],
 "metadata": {
  "kernelspec": {
   "display_name": "Python 3",
   "language": "python",
   "name": "python3"
  },
  "language_info": {
   "codemirror_mode": {
    "name": "ipython",
    "version": 3
   },
   "file_extension": ".py",
   "mimetype": "text/x-python",
   "name": "python",
   "nbconvert_exporter": "python",
   "pygments_lexer": "ipython3",
   "version": "3.10.6"
  }
 },
 "nbformat": 4,
 "nbformat_minor": 5
}
