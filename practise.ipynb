{
 "cells": [
  {
   "cell_type": "code",
   "execution_count": 1,
   "metadata": {},
   "outputs": [
    {
     "data": {
      "text/plain": [
       "range(0, 5)"
      ]
     },
     "execution_count": 1,
     "metadata": {},
     "output_type": "execute_result"
    }
   ],
   "source": [
    "range(5)"
   ]
  },
  {
   "cell_type": "code",
   "execution_count": 4,
   "metadata": {},
   "outputs": [
    {
     "name": "stdout",
     "output_type": "stream",
     "text": [
      "1\n",
      "3\n",
      "5\n",
      "7\n"
     ]
    }
   ],
   "source": [
    "for i in range(1,9,2):\n",
    "    print(i)"
   ]
  },
  {
   "cell_type": "code",
   "execution_count": 5,
   "metadata": {},
   "outputs": [
    {
     "name": "stdout",
     "output_type": "stream",
     "text": [
      "S\n",
      "r\n",
      "i\n",
      "t\n",
      "a\n",
      "m\n",
      " \n",
      "K\n",
      "u\n",
      "m\n",
      "a\n",
      "r\n"
     ]
    }
   ],
   "source": [
    "str = 'Sritam Kumar'\n",
    "\n",
    "for i in str:\n",
    "     print(i)"
   ]
  },
  {
   "cell_type": "code",
   "execution_count": 8,
   "metadata": {},
   "outputs": [
    {
     "name": "stdout",
     "output_type": "stream",
     "text": [
      "0\n",
      "1\n",
      "2\n",
      "3\n",
      "4\n"
     ]
    }
   ],
   "source": [
    "#While loop\n",
    "\n",
    "count=0\n",
    "while(count<5):\n",
    "    print(count)\n",
    "    count=count+1\n"
   ]
  },
  {
   "cell_type": "code",
   "execution_count": 9,
   "metadata": {},
   "outputs": [
    {
     "name": "stdout",
     "output_type": "stream",
     "text": [
      "0\n",
      "1\n",
      "2\n",
      "3\n",
      "4\n"
     ]
    }
   ],
   "source": [
    "#loop control statement\n",
    "\n",
    "for i in range(10):\n",
    "    if i==5:\n",
    "        break\n",
    "    print(i)"
   ]
  },
  {
   "cell_type": "code",
   "execution_count": 10,
   "metadata": {},
   "outputs": [
    {
     "name": "stdout",
     "output_type": "stream",
     "text": [
      "1\n",
      "3\n",
      "5\n",
      "7\n",
      "9\n"
     ]
    }
   ],
   "source": [
    "for i in range(10):\n",
    "    if i%2 == 0:\n",
    "        continue\n",
    "    print(i)\n"
   ]
  },
  {
   "cell_type": "code",
   "execution_count": 15,
   "metadata": {},
   "outputs": [
    {
     "name": "stdout",
     "output_type": "stream",
     "text": [
      "2 is a prime number\n",
      "3 is a prime number\n",
      "4 is a prime number\n",
      "5 is a prime number\n",
      "6 is a prime number\n",
      "7 is a prime number\n",
      "8 is a prime number\n",
      "9 is a prime number\n",
      "10 is a prime number\n",
      "11 is a prime number\n",
      "12 is a prime number\n",
      "13 is a prime number\n",
      "14 is a prime number\n",
      "15 is a prime number\n",
      "16 is a prime number\n",
      "17 is a prime number\n",
      "18 is a prime number\n",
      "19 is a prime number\n",
      "20 is a prime number\n",
      "21 is a prime number\n",
      "22 is a prime number\n",
      "23 is a prime number\n",
      "24 is a prime number\n",
      "25 is a prime number\n",
      "26 is a prime number\n",
      "27 is a prime number\n",
      "28 is a prime number\n",
      "29 is a prime number\n",
      "30 is a prime number\n",
      "31 is a prime number\n",
      "32 is a prime number\n",
      "33 is a prime number\n",
      "34 is a prime number\n",
      "35 is a prime number\n",
      "36 is a prime number\n",
      "37 is a prime number\n",
      "38 is a prime number\n",
      "39 is a prime number\n",
      "40 is a prime number\n",
      "41 is a prime number\n",
      "42 is a prime number\n",
      "43 is a prime number\n",
      "44 is a prime number\n",
      "45 is a prime number\n",
      "46 is a prime number\n",
      "47 is a prime number\n",
      "48 is a prime number\n",
      "49 is a prime number\n",
      "50 is a prime number\n",
      "51 is a prime number\n",
      "52 is a prime number\n",
      "53 is a prime number\n",
      "54 is a prime number\n",
      "55 is a prime number\n",
      "56 is a prime number\n",
      "57 is a prime number\n",
      "58 is a prime number\n",
      "59 is a prime number\n",
      "60 is a prime number\n",
      "61 is a prime number\n",
      "62 is a prime number\n",
      "63 is a prime number\n",
      "64 is a prime number\n",
      "65 is a prime number\n",
      "66 is a prime number\n",
      "67 is a prime number\n",
      "68 is a prime number\n",
      "69 is a prime number\n",
      "70 is a prime number\n",
      "71 is a prime number\n",
      "72 is a prime number\n",
      "73 is a prime number\n",
      "74 is a prime number\n",
      "75 is a prime number\n",
      "76 is a prime number\n",
      "77 is a prime number\n",
      "78 is a prime number\n",
      "79 is a prime number\n",
      "80 is a prime number\n",
      "81 is a prime number\n",
      "82 is a prime number\n",
      "83 is a prime number\n",
      "84 is a prime number\n",
      "85 is a prime number\n",
      "86 is a prime number\n",
      "87 is a prime number\n",
      "88 is a prime number\n",
      "89 is a prime number\n",
      "90 is a prime number\n",
      "91 is a prime number\n",
      "92 is a prime number\n",
      "93 is a prime number\n",
      "94 is a prime number\n",
      "95 is a prime number\n",
      "96 is a prime number\n",
      "97 is a prime number\n",
      "98 is a prime number\n",
      "99 is a prime number\n",
      "100 is a prime number\n"
     ]
    }
   ],
   "source": [
    "#prime number using loop\n",
    "\n",
    "for num in range(2,101):\n",
    "    for i in range(2,num):\n",
    "        if(num%i==0):\n",
    "            break\n",
    "        \n",
    "    print(f'{num} is a prime number')\n",
    "            \n",
    "\n"
   ]
  },
  {
   "cell_type": "code",
   "execution_count": 1,
   "metadata": {},
   "outputs": [
    {
     "name": "stdout",
     "output_type": "stream",
     "text": [
      "<class 'tuple'>\n"
     ]
    }
   ],
   "source": [
    "#tuples\n",
    "\n",
    "tple=(1,2,3,4,'Sritam')\n",
    "print(type(tple))"
   ]
  },
  {
   "cell_type": "code",
   "execution_count": 4,
   "metadata": {},
   "outputs": [
    {
     "name": "stdout",
     "output_type": "stream",
     "text": [
      "(1, 2, 3, 45, 5)\n",
      "[1, 2, 6, 7, 9, 'Sritam']\n"
     ]
    }
   ],
   "source": [
    "tpl=tuple([1,2,3,45,5])\n",
    "lists=list((1,2,6,7,9,'Sritam'))\n",
    "print(tpl)\n",
    "print(lists)"
   ]
  },
  {
   "cell_type": "code",
   "execution_count": 9,
   "metadata": {},
   "outputs": [
    {
     "name": "stdout",
     "output_type": "stream",
     "text": [
      "2\n",
      "(2, 3)\n"
     ]
    }
   ],
   "source": [
    "print(tpl[1])\n",
    "print(tpl[1:3])\n"
   ]
  },
  {
   "cell_type": "code",
   "execution_count": null,
   "metadata": {},
   "outputs": [],
   "source": []
  }
 ],
 "metadata": {
  "kernelspec": {
   "display_name": "myenv",
   "language": "python",
   "name": "python3"
  },
  "language_info": {
   "codemirror_mode": {
    "name": "ipython",
    "version": 3
   },
   "file_extension": ".py",
   "mimetype": "text/x-python",
   "name": "python",
   "nbconvert_exporter": "python",
   "pygments_lexer": "ipython3",
   "version": "3.10.6"
  }
 },
 "nbformat": 4,
 "nbformat_minor": 2
}
